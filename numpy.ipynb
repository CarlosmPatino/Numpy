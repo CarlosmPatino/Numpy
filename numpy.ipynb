{
 "cells": [
  {
   "cell_type": "markdown",
   "metadata": {},
   "source": [
    "dimensiones con numpy"
   ]
  },
  {
   "cell_type": "code",
   "execution_count": 1,
   "metadata": {},
   "outputs": [],
   "source": [
    "import numpy as np\n"
   ]
  },
  {
   "cell_type": "code",
   "execution_count": 9,
   "metadata": {},
   "outputs": [
    {
     "name": "stdout",
     "output_type": "stream",
     "text": [
      "42.0\n"
     ]
    },
    {
     "data": {
      "text/plain": [
       "dtype('int64')"
      ]
     },
     "execution_count": 9,
     "metadata": {},
     "output_type": "execute_result"
    }
   ],
   "source": [
    "scalar = np.array(42, dtype = 'float64')\n",
    "print(scalar)\n",
    "scalar.ndim\n",
    "r=scalar.astype('int64')\n",
    "r.dtype"
   ]
  },
  {
   "cell_type": "code",
   "execution_count": 10,
   "metadata": {},
   "outputs": [
    {
     "name": "stdout",
     "output_type": "stream",
     "text": [
      "[1 3 6 2 8]\n"
     ]
    },
    {
     "data": {
      "text/plain": [
       "1"
      ]
     },
     "execution_count": 10,
     "metadata": {},
     "output_type": "execute_result"
    }
   ],
   "source": [
    "vector = np.array([1,3,6,2,8])\n",
    "print(vector)\n",
    "vector.ndim"
   ]
  },
  {
   "cell_type": "code",
   "execution_count": 16,
   "metadata": {},
   "outputs": [
    {
     "name": "stdout",
     "output_type": "stream",
     "text": [
      "[[1 3 6 2 8]\n",
      " [2 6 7 8 9]\n",
      " [1 6 7 4 9]]\n"
     ]
    },
    {
     "data": {
      "text/plain": [
       "2"
      ]
     },
     "execution_count": 16,
     "metadata": {},
     "output_type": "execute_result"
    }
   ],
   "source": [
    "matriz = np.array([[1,3,6,2,8],[2,6,7,8,9],[1,6,7,4,9]])\n",
    "print(matriz)\n",
    "matriz.ndim"
   ]
  },
  {
   "cell_type": "code",
   "execution_count": 30,
   "metadata": {},
   "outputs": [
    {
     "name": "stdout",
     "output_type": "stream",
     "text": [
      "6\n"
     ]
    },
    {
     "data": {
      "text/plain": [
       "3"
      ]
     },
     "execution_count": 30,
     "metadata": {},
     "output_type": "execute_result"
    }
   ],
   "source": [
    "tensor = np.array([[[1,3,6,2,8],[2,6,7,8,9],[1,6,7,4,9]],[[1,3,6,2,8],[2,6,7,8,9],[1,6,7,4,9]]])\n",
    "print(tensor[1][2][1])\n",
    "tensor.ndim"
   ]
  },
  {
   "cell_type": "code",
   "execution_count": 33,
   "metadata": {},
   "outputs": [
    {
     "name": "stdout",
     "output_type": "stream",
     "text": [
      "[[[[[[[[[[1 3 6 2 8]]]]]]]]]]\n"
     ]
    },
    {
     "data": {
      "text/plain": [
       "10"
      ]
     },
     "execution_count": 33,
     "metadata": {},
     "output_type": "execute_result"
    }
   ],
   "source": [
    "#redimensionamiento de los arrays\n",
    "vector10 = np.array([1,3,6,2,8], ndmin=10)\n",
    "print(vector10)\n",
    "vector10.ndim\n"
   ]
  },
  {
   "cell_type": "code",
   "execution_count": 56,
   "metadata": {},
   "outputs": [
    {
     "name": "stdout",
     "output_type": "stream",
     "text": [
      "3\n",
      "3\n",
      "2\n",
      "3\n"
     ]
    }
   ],
   "source": [
    "#expandir una dimension en las filas con axis=1 si quisiera columnas seria axis=0\n",
    "expandY = np.expand_dims(np.array([1,3,6,2,8]), axis=0)\n",
    "expandYY =  np.expand_dims(expandY, axis=0)\n",
    "expandX = np.expand_dims(np.array([1,3,6,2,8]), axis=1)\n",
    "expandXX = np.expand_dims(expandX, axis=1)\n",
    "print(expandX[1][0])\n",
    "print(expandY[0][1])\n",
    "print(expandXX[3][0][0])\n",
    "print(expandYY[0][0][1])"
   ]
  },
  {
   "cell_type": "code",
   "execution_count": 57,
   "metadata": {},
   "outputs": [
    {
     "name": "stdout",
     "output_type": "stream",
     "text": [
      "[1 3 6 2 8]\n"
     ]
    },
    {
     "data": {
      "text/plain": [
       "1"
      ]
     },
     "execution_count": 57,
     "metadata": {},
     "output_type": "execute_result"
    }
   ],
   "source": [
    "#borrar dimensiones\n",
    "vector1 = np.squeeze(vector10)\n",
    "print(vector1)\n",
    "vector1.ndim"
   ]
  },
  {
   "cell_type": "markdown",
   "metadata": {},
   "source": [
    "como crear arrays con numpy con metodos de la libreria\n"
   ]
  },
  {
   "cell_type": "code",
   "execution_count": 58,
   "metadata": {},
   "outputs": [
    {
     "data": {
      "text/plain": [
       "array([0, 1, 2, 3, 4, 5, 6, 7, 8, 9])"
      ]
     },
     "execution_count": 58,
     "metadata": {},
     "output_type": "execute_result"
    }
   ],
   "source": [
    "#me crea un array en el rango de los nuemro que le de sin tomar el ultimo \n",
    "#se le puede agregar el step\n",
    "np.arange(0,10,3)"
   ]
  },
  {
   "cell_type": "code",
   "execution_count": 61,
   "metadata": {},
   "outputs": [
    {
     "data": {
      "text/plain": [
       "array([[0., 0.],\n",
       "       [0., 0.],\n",
       "       [0., 0.],\n",
       "       [0., 0.],\n",
       "       [0., 0.],\n",
       "       [0., 0.],\n",
       "       [0., 0.],\n",
       "       [0., 0.],\n",
       "       [0., 0.],\n",
       "       [0., 0.]])"
      ]
     },
     "execution_count": 61,
     "metadata": {},
     "output_type": "execute_result"
    }
   ],
   "source": [
    "#me crea un array de zeros en float\n",
    "np.zeros((10,2))"
   ]
  },
  {
   "cell_type": "code",
   "execution_count": 62,
   "metadata": {},
   "outputs": [
    {
     "data": {
      "text/plain": [
       "array([[1., 1., 1.],\n",
       "       [1., 1., 1.],\n",
       "       [1., 1., 1.],\n",
       "       [1., 1., 1.],\n",
       "       [1., 1., 1.]])"
      ]
     },
     "execution_count": 62,
     "metadata": {},
     "output_type": "execute_result"
    }
   ],
   "source": [
    "#me crea un array de unos \n",
    "np.ones((5,3))"
   ]
  },
  {
   "cell_type": "code",
   "execution_count": 5,
   "metadata": {},
   "outputs": [
    {
     "name": "stdout",
     "output_type": "stream",
     "text": [
      "[ 0.          0.1010101   0.2020202   0.3030303   0.4040404   0.50505051\n",
      "  0.60606061  0.70707071  0.80808081  0.90909091  1.01010101  1.11111111\n",
      "  1.21212121  1.31313131  1.41414141  1.51515152  1.61616162  1.71717172\n",
      "  1.81818182  1.91919192  2.02020202  2.12121212  2.22222222  2.32323232\n",
      "  2.42424242  2.52525253  2.62626263  2.72727273  2.82828283  2.92929293\n",
      "  3.03030303  3.13131313  3.23232323  3.33333333  3.43434343  3.53535354\n",
      "  3.63636364  3.73737374  3.83838384  3.93939394  4.04040404  4.14141414\n",
      "  4.24242424  4.34343434  4.44444444  4.54545455  4.64646465  4.74747475\n",
      "  4.84848485  4.94949495  5.05050505  5.15151515  5.25252525  5.35353535\n",
      "  5.45454545  5.55555556  5.65656566  5.75757576  5.85858586  5.95959596\n",
      "  6.06060606  6.16161616  6.26262626  6.36363636  6.46464646  6.56565657\n",
      "  6.66666667  6.76767677  6.86868687  6.96969697  7.07070707  7.17171717\n",
      "  7.27272727  7.37373737  7.47474747  7.57575758  7.67676768  7.77777778\n",
      "  7.87878788  7.97979798  8.08080808  8.18181818  8.28282828  8.38383838\n",
      "  8.48484848  8.58585859  8.68686869  8.78787879  8.88888889  8.98989899\n",
      "  9.09090909  9.19191919  9.29292929  9.39393939  9.49494949  9.5959596\n",
      "  9.6969697   9.7979798   9.8989899  10.        ]\n",
      "1\n"
     ]
    }
   ],
   "source": [
    "#crear un array(matriz) en un rango de numeros y cuantos datos quiero en este rango\n",
    "#ejemplo quiero datos del 0 - 10 y que hayan 100 datos entre este rango \n",
    "Examplea=np.linspace(0,10,100)\n",
    "print(Examplea)\n",
    "print(Examplea.ndim)"
   ]
  },
  {
   "cell_type": "code",
   "execution_count": 6,
   "metadata": {},
   "outputs": [
    {
     "data": {
      "text/plain": [
       "array([[1., 0., 0., 0.],\n",
       "       [0., 1., 0., 0.],\n",
       "       [0., 0., 1., 0.],\n",
       "       [0., 0., 0., 1.]])"
      ]
     },
     "execution_count": 6,
     "metadata": {},
     "output_type": "execute_result"
    }
   ],
   "source": [
    "#me crea una matriz con la diagonal en 1 y el resto en zero\n",
    "np.eye(4)"
   ]
  },
  {
   "cell_type": "code",
   "execution_count": 8,
   "metadata": {},
   "outputs": [
    {
     "name": "stdout",
     "output_type": "stream",
     "text": [
      "0.04855719783311896\n",
      "[0.73545848 0.88215825 0.998662   0.20619338]\n",
      "[[0.69595491 0.67132326]\n",
      " [0.13432328 0.90904447]\n",
      " [0.57566772 0.30682254]\n",
      " [0.43591999 0.43032945]]\n"
     ]
    }
   ],
   "source": [
    "#crear un array(matriz) de numeros aleatorios entre el 0 y el 1\n",
    "print(np.random.rand()) #<--- un sulo numero\n",
    "print(np.random.rand(4)) #<--- array con cuatro numeros\n",
    "print(np.random.rand(4,2))#<--- matriz de forma 4x2"
   ]
  },
  {
   "cell_type": "code",
   "execution_count": 9,
   "metadata": {},
   "outputs": [
    {
     "name": "stdout",
     "output_type": "stream",
     "text": [
      "37\n",
      "[[ 1  5]\n",
      " [29 19]\n",
      " [23 14]\n",
      " [20  3]\n",
      " [16 25]\n",
      " [29  8]\n",
      " [ 4 28]\n",
      " [ 9 24]\n",
      " [ 6  1]\n",
      " [ 5 17]]\n"
     ]
    }
   ],
   "source": [
    "#para crear un array con numeros enteros en un rango establecido por nosotros\n",
    "print(np.random.randint(1,50)) #<-- crea un solo numero\n",
    "print(np.random.randint(1,30,(10,2))) #<--- crea una matriz con numeros enteros al azar con la forma 10x2"
   ]
  },
  {
   "cell_type": "markdown",
   "metadata": {},
   "source": [
    "veremos las formas de las matrices y los metdos shape y reshape"
   ]
  },
  {
   "cell_type": "code",
   "execution_count": 3,
   "metadata": {},
   "outputs": [
    {
     "name": "stdout",
     "output_type": "stream",
     "text": [
      "(2, 3)\n",
      "[[5 3]\n",
      " [5 5]\n",
      " [5 4]]\n"
     ]
    }
   ],
   "source": [
    "arra = np.random.randint(1,6,(2,3))\n",
    "#shape me devuelve la forma de la matriz \n",
    "print(arra.shape)\n",
    "#reshape me cambia la forma de la matriz en cuanto se mantanga en las mismas dimensiones (no puede crear ni borrar datos)\n",
    "print(arra.reshape(3,2))"
   ]
  },
  {
   "cell_type": "markdown",
   "metadata": {},
   "source": [
    "Funciones(metodos) mas usados en numpy "
   ]
  },
  {
   "cell_type": "code",
   "execution_count": 7,
   "metadata": {},
   "outputs": [
    {
     "name": "stdout",
     "output_type": "stream",
     "text": [
      "[[ 8  6  8 19 17]\n",
      " [ 9  2 12 17 16]]\n"
     ]
    }
   ],
   "source": [
    "ar=np.random.randint(1,20,10)\n",
    "matriz = ar.reshape(2,5)\n",
    "print(matriz)\n"
   ]
  },
  {
   "cell_type": "code",
   "execution_count": 9,
   "metadata": {},
   "outputs": [
    {
     "data": {
      "text/plain": [
       "array([ 9,  6, 12, 19, 17])"
      ]
     },
     "execution_count": 9,
     "metadata": {},
     "output_type": "execute_result"
    }
   ],
   "source": [
    "#Obtener el numero mayor de una matriz\n",
    "matriz.max()\n",
    "#si queremos obtener el numero mayor por ejes agregamos en la funcion un 0 --> columnas y un 1 --> Filas\n",
    "matriz.max(0)"
   ]
  },
  {
   "cell_type": "code",
   "execution_count": 11,
   "metadata": {},
   "outputs": [
    {
     "data": {
      "text/plain": [
       "array([3, 3], dtype=int64)"
      ]
     },
     "execution_count": 11,
     "metadata": {},
     "output_type": "execute_result"
    }
   ],
   "source": [
    "#obtener el indice de donde se encuentra el numero mayor (me devuelve el indice del primer numero mayor si se repite)\n",
    "matriz.argmax()\n",
    "#tambien me entrega los indices por ejes\n",
    "matriz.argmax(1)"
   ]
  },
  {
   "cell_type": "code",
   "execution_count": 13,
   "metadata": {},
   "outputs": [
    {
     "data": {
      "text/plain": [
       "array([6, 2])"
      ]
     },
     "execution_count": 13,
     "metadata": {},
     "output_type": "execute_result"
    }
   ],
   "source": [
    "#obtener el numero menor de una matriz\n",
    "matriz.min()\n",
    "#tiene las mismas propiedades que la funcion max con los ejes\n",
    "matriz.min(1)"
   ]
  },
  {
   "cell_type": "code",
   "execution_count": 14,
   "metadata": {},
   "outputs": [
    {
     "data": {
      "text/plain": [
       "6"
      ]
     },
     "execution_count": 14,
     "metadata": {},
     "output_type": "execute_result"
    }
   ],
   "source": [
    "#obtener el indice del numero menor de una matriz(funciona igual que el argmax)\n",
    "matriz.argmin()"
   ]
  },
  {
   "cell_type": "code",
   "execution_count": 15,
   "metadata": {},
   "outputs": [
    {
     "name": "stdout",
     "output_type": "stream",
     "text": [
      "17\n",
      "[1 4 4 2 1]\n"
     ]
    }
   ],
   "source": [
    "#obtener la diferencia entre el pico mas alto al pico mas bajo(del mayor al menor)\n",
    "print(ar.ptp()) #numero mayor 19 y menor 2 19-2 = 17\n",
    "print(matriz.ptp(0)) #tiene la misma pripiedad de los ejes"
   ]
  },
  {
   "cell_type": "code",
   "execution_count": 26,
   "metadata": {},
   "outputs": [
    {
     "data": {
      "text/plain": [
       "10.5"
      ]
     },
     "execution_count": 26,
     "metadata": {},
     "output_type": "execute_result"
    }
   ],
   "source": [
    "#obtener el percentil de un array o matriz\n",
    "np.percentile(matriz,50)"
   ]
  },
  {
   "cell_type": "code",
   "execution_count": 30,
   "metadata": {},
   "outputs": [
    {
     "data": {
      "text/plain": [
       "array([[ 2,  6,  8,  8,  9],\n",
       "       [12, 16, 17, 17, 19]])"
      ]
     },
     "execution_count": 30,
     "metadata": {},
     "output_type": "execute_result"
    }
   ],
   "source": [
    "#organizar de menor a mayor el array o matriz\n",
    "ar.sort()\n",
    "matriz.sort()\n",
    "matriz\n",
    "\n"
   ]
  },
  {
   "cell_type": "code",
   "execution_count": 34,
   "metadata": {},
   "outputs": [
    {
     "data": {
      "text/plain": [
       "array([ 7. , 11. , 12.5, 12.5, 14. ])"
      ]
     },
     "execution_count": 34,
     "metadata": {},
     "output_type": "execute_result"
    }
   ],
   "source": [
    "#Obtener la mediana de un array o matriz\n",
    "np.median(ar)\n",
    "np.median(matriz,0) # tambien tiene la propiedad de los ejes"
   ]
  },
  {
   "cell_type": "code",
   "execution_count": 35,
   "metadata": {},
   "outputs": [
    {
     "name": "stdout",
     "output_type": "stream",
     "text": [
      "5.370288632839022\n",
      "5.370288632839022\n"
     ]
    }
   ],
   "source": [
    "#Obtener la variacion estandar \n",
    "print(np.std(ar))\n",
    "print(np.std(matriz))\n"
   ]
  },
  {
   "cell_type": "code",
   "execution_count": 36,
   "metadata": {},
   "outputs": [
    {
     "name": "stdout",
     "output_type": "stream",
     "text": [
      "28.840000000000003\n",
      "28.840000000000003\n"
     ]
    }
   ],
   "source": [
    "#obtener la varianza \n",
    "print(np.var(ar))\n",
    "print(np.var(matriz))"
   ]
  },
  {
   "cell_type": "code",
   "execution_count": 37,
   "metadata": {},
   "outputs": [
    {
     "name": "stdout",
     "output_type": "stream",
     "text": [
      "11.4\n",
      "11.4\n"
     ]
    }
   ],
   "source": [
    "#obtener la media de un array o matriz\n",
    "print(np.mean(ar))\n",
    "print(np.mean(matriz))"
   ]
  },
  {
   "cell_type": "code",
   "execution_count": 69,
   "metadata": {},
   "outputs": [
    {
     "name": "stdout",
     "output_type": "stream",
     "text": [
      "(2,)\n",
      "(2, 2)\n"
     ]
    },
    {
     "ename": "ValueError",
     "evalue": "all the input arrays must have same number of dimensions, but the array at index 0 has 2 dimension(s) and the array at index 1 has 1 dimension(s)",
     "output_type": "error",
     "traceback": [
      "\u001b[1;31m---------------------------------------------------------------------------\u001b[0m",
      "\u001b[1;31mValueError\u001b[0m                                Traceback (most recent call last)",
      "Cell \u001b[1;32mIn[69], line 6\u001b[0m\n\u001b[0;32m      4\u001b[0m \u001b[38;5;28mprint\u001b[39m(b\u001b[38;5;241m.\u001b[39mshape)\n\u001b[0;32m      5\u001b[0m \u001b[38;5;28mprint\u001b[39m(a\u001b[38;5;241m.\u001b[39mshape)\n\u001b[1;32m----> 6\u001b[0m \u001b[43mnp\u001b[49m\u001b[38;5;241;43m.\u001b[39;49m\u001b[43mconcatenate\u001b[49m\u001b[43m(\u001b[49m\u001b[43m(\u001b[49m\u001b[43ma\u001b[49m\u001b[43m,\u001b[49m\u001b[43mb\u001b[49m\u001b[43m)\u001b[49m\u001b[43m,\u001b[49m\u001b[43m \u001b[49m\u001b[43maxis\u001b[49m\u001b[38;5;241;43m=\u001b[39;49m\u001b[38;5;241;43m0\u001b[39;49m\u001b[43m)\u001b[49m\n",
      "\u001b[1;31mValueError\u001b[0m: all the input arrays must have same number of dimensions, but the array at index 0 has 2 dimension(s) and the array at index 1 has 1 dimension(s)"
     ]
    }
   ],
   "source": [
    "#concatenar dos array, deben tener la misma dimension \n",
    "a = np.array([[1,2],[3,4]])\n",
    "b = np.array([4,6])\n",
    "print(b.shape)\n",
    "print(a.shape)\n",
    "np.concatenate((a,b), axis=0)"
   ]
  },
  {
   "cell_type": "code",
   "execution_count": 70,
   "metadata": {},
   "outputs": [
    {
     "name": "stdout",
     "output_type": "stream",
     "text": [
      "(1, 2)\n"
     ]
    }
   ],
   "source": [
    "#organizamos el error\n",
    "b = np.expand_dims(b,axis=0)\n",
    "print(b.shape)\n",
    "\n"
   ]
  },
  {
   "cell_type": "code",
   "execution_count": 73,
   "metadata": {},
   "outputs": [
    {
     "name": "stdout",
     "output_type": "stream",
     "text": [
      "[[1 2]\n",
      " [3 4]\n",
      " [4 6]]\n",
      "[[1 2 4]\n",
      " [3 4 6]]\n"
     ]
    }
   ],
   "source": [
    "\n",
    "print(np.concatenate((a,b),axis=0))\n",
    "#si queremos concatenar por sus filas hacemos la transpuesta de B\n",
    "print(np.concatenate((a,b.T),axis=1))"
   ]
  },
  {
   "cell_type": "markdown",
   "metadata": {},
   "source": [
    "vamos a ver el copy\n",
    "se puede generar varios errores al uno usarlo ya que al modificar la copia se puede modificar el original\n"
   ]
  },
  {
   "cell_type": "code",
   "execution_count": 77,
   "metadata": {},
   "outputs": [],
   "source": [
    "Z = np.arange(0,10)\n",
    "Trozo_Z=Z[0:6]"
   ]
  },
  {
   "cell_type": "code",
   "execution_count": 80,
   "metadata": {},
   "outputs": [
    {
     "name": "stdout",
     "output_type": "stream",
     "text": [
      "[0 0 0 0 0 0]\n",
      "[0 0 0 0 0 0 6 7 8 9]\n"
     ]
    }
   ],
   "source": [
    "Trozo_Z[:] = 0\n",
    "print(Trozo_Z)\n",
    "#cambiamos los valores de trozo de Z que es una copia de los primeros 5 valores de Z pero tambien me cambio Z\n",
    "print(Z)"
   ]
  },
  {
   "cell_type": "code",
   "execution_count": 84,
   "metadata": {},
   "outputs": [
    {
     "name": "stdout",
     "output_type": "stream",
     "text": [
      "[100 100 100 100 100 100 100 100 100 100]\n",
      "[0 0 0 0 0 0 6 7 8 9]\n"
     ]
    }
   ],
   "source": [
    "#como hacerlo correctamente\n",
    "Z_Copy = Z.copy()\n",
    "Z_Copy[:]=100\n",
    "print(Z_Copy)\n",
    "print(Z)\n",
    "\n"
   ]
  },
  {
   "cell_type": "markdown",
   "metadata": {},
   "source": [
    "condiciones (como SQL con where)"
   ]
  },
  {
   "cell_type": "code",
   "execution_count": 95,
   "metadata": {},
   "outputs": [],
   "source": [
    "C = np.linspace(1,10,10, dtype = 'int8')"
   ]
  },
  {
   "cell_type": "code",
   "execution_count": 96,
   "metadata": {},
   "outputs": [
    {
     "name": "stdout",
     "output_type": "stream",
     "text": [
      "[ 1  2  3  4  5 99 99 99 99 99]\n"
     ]
    }
   ],
   "source": [
    "#obtener valores segun condiciones\n",
    "C[(C>5) & (C<9)]\n",
    "C[C>5] = 99\n",
    "c=C\n",
    "print(c)\n"
   ]
  },
  {
   "cell_type": "markdown",
   "metadata": {},
   "source": [
    "Operaciones "
   ]
  },
  {
   "cell_type": "code",
   "execution_count": 97,
   "metadata": {},
   "outputs": [
    {
     "data": {
      "text/plain": [
       "[1, 2, 1, 2]"
      ]
     },
     "execution_count": 97,
     "metadata": {},
     "output_type": "execute_result"
    }
   ],
   "source": [
    "#en este caso me multiplica dos veces los valores ya existentes\n",
    "lista = [1,2]\n",
    "lista * 2"
   ]
  },
  {
   "cell_type": "code",
   "execution_count": 98,
   "metadata": {},
   "outputs": [],
   "source": [
    "#haciendolo con numpy\n",
    "Arr = np.arange(0,10)\n",
    "Arr2 = Arr.copy()\n"
   ]
  },
  {
   "cell_type": "code",
   "execution_count": 99,
   "metadata": {},
   "outputs": [
    {
     "data": {
      "text/plain": [
       "array([ 0,  2,  4,  6,  8, 10, 12, 14, 16, 18])"
      ]
     },
     "execution_count": 99,
     "metadata": {},
     "output_type": "execute_result"
    }
   ],
   "source": [
    "Arr2 * 2"
   ]
  },
  {
   "cell_type": "code",
   "execution_count": 100,
   "metadata": {},
   "outputs": [
    {
     "name": "stderr",
     "output_type": "stream",
     "text": [
      "C:\\Users\\carlo\\AppData\\Local\\Temp\\ipykernel_18892\\1313145314.py:1: RuntimeWarning: divide by zero encountered in divide\n",
      "  1 / Arr\n"
     ]
    },
    {
     "data": {
      "text/plain": [
       "array([       inf, 1.        , 0.5       , 0.33333333, 0.25      ,\n",
       "       0.2       , 0.16666667, 0.14285714, 0.125     , 0.11111111])"
      ]
     },
     "execution_count": 100,
     "metadata": {},
     "output_type": "execute_result"
    }
   ],
   "source": [
    "1 / Arr"
   ]
  },
  {
   "cell_type": "code",
   "execution_count": null,
   "metadata": {},
   "outputs": [],
   "source": []
  }
 ],
 "metadata": {
  "kernelspec": {
   "display_name": "Python 3",
   "language": "python",
   "name": "python3"
  },
  "language_info": {
   "codemirror_mode": {
    "name": "ipython",
    "version": 3
   },
   "file_extension": ".py",
   "mimetype": "text/x-python",
   "name": "python",
   "nbconvert_exporter": "python",
   "pygments_lexer": "ipython3",
   "version": "3.11.9"
  }
 },
 "nbformat": 4,
 "nbformat_minor": 2
}
